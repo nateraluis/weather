{
 "cells": [
  {
   "cell_type": "code",
   "execution_count": 1,
   "id": "30083680-24f5-4a13-a0e4-80739732d81d",
   "metadata": {},
   "outputs": [],
   "source": [
    "import requests\n",
    "import sys\n",
    "\n",
    "import csv\n",
    "import codecs\n",
    "\n",
    "import pandas as pd"
   ]
  },
  {
   "cell_type": "code",
   "execution_count": 37,
   "id": "9922fe34-064c-4187-ae0a-fef1e5c644a8",
   "metadata": {},
   "outputs": [],
   "source": [
    "city = 'Campeche'\n",
    "response = requests.request(\"GET\", f\"https://weather.visualcrossing.com/VisualCrossingWebServices/rest/services/timeline/{city}/1980-01-01/2023-06-23?unitGroup=metric&include=days&key=UCE2KNZHWU8GZZPEM2BM226ZL&contentType=csv\")\n",
    "if response.status_code!=200:\n",
    "  print('Unexpected Status code: ', response.status_code)\n",
    "  sys.exit()"
   ]
  },
  {
   "cell_type": "code",
   "execution_count": 38,
   "id": "779201b5-56c3-447b-8368-e1e9761af564",
   "metadata": {},
   "outputs": [],
   "source": [
    "# Parse the results as CSV\n",
    "CSVText = csv.reader(response.text.splitlines(), delimiter=',',quotechar='\"')\n",
    "df = pd.DataFrame(CSVText)\n",
    "df.rename(columns=df.iloc[0], inplace = True)\n",
    "df.drop([0], inplace = True)"
   ]
  },
  {
   "cell_type": "code",
   "execution_count": 39,
   "id": "658cea68-3faf-41aa-8a91-14f8ed6a78e0",
   "metadata": {},
   "outputs": [],
   "source": [
    "df.to_csv('../data/camp-19800101-20230623.csv')"
   ]
  },
  {
   "cell_type": "code",
   "execution_count": 32,
   "id": "1c5886a9-a641-4de2-b47d-b4ec8cca4700",
   "metadata": {},
   "outputs": [
    {
     "data": {
      "text/html": [
       "<div>\n",
       "<style scoped>\n",
       "    .dataframe tbody tr th:only-of-type {\n",
       "        vertical-align: middle;\n",
       "    }\n",
       "\n",
       "    .dataframe tbody tr th {\n",
       "        vertical-align: top;\n",
       "    }\n",
       "\n",
       "    .dataframe thead th {\n",
       "        text-align: right;\n",
       "    }\n",
       "</style>\n",
       "<table border=\"1\" class=\"dataframe\">\n",
       "  <thead>\n",
       "    <tr style=\"text-align: right;\">\n",
       "      <th></th>\n",
       "    </tr>\n",
       "  </thead>\n",
       "  <tbody>\n",
       "  </tbody>\n",
       "</table>\n",
       "</div>"
      ],
      "text/plain": [
       "Empty DataFrame\n",
       "Columns: []\n",
       "Index: []"
      ]
     },
     "execution_count": 32,
     "metadata": {},
     "output_type": "execute_result"
    }
   ],
   "source": [
    "df[]"
   ]
  },
  {
   "cell_type": "code",
   "execution_count": null,
   "id": "fbf82bd4-8dc1-48bd-a96e-4b04860565e0",
   "metadata": {},
   "outputs": [],
   "source": []
  }
 ],
 "metadata": {
  "kernelspec": {
   "display_name": "Python 3 (ipykernel)",
   "language": "python",
   "name": "python3"
  },
  "language_info": {
   "codemirror_mode": {
    "name": "ipython",
    "version": 3
   },
   "file_extension": ".py",
   "mimetype": "text/x-python",
   "name": "python",
   "nbconvert_exporter": "python",
   "pygments_lexer": "ipython3",
   "version": "3.11.3"
  }
 },
 "nbformat": 4,
 "nbformat_minor": 5
}
